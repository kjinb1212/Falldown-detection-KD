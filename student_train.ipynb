{
  "nbformat": 4,
  "nbformat_minor": 0,
  "metadata": {
    "kernelspec": {
      "display_name": "ML",
      "language": "python",
      "name": "jinbeom"
    },
    "language_info": {
      "codemirror_mode": {
        "name": "ipython",
        "version": 3
      },
      "file_extension": ".py",
      "mimetype": "text/x-python",
      "name": "python",
      "nbconvert_exporter": "python",
      "pygments_lexer": "ipython3",
      "version": "3.8.5"
    },
    "colab": {
      "name": "student_train.ipynb",
      "provenance": [],
      "include_colab_link": true
    }
  },
  "cells": [
    {
      "cell_type": "markdown",
      "metadata": {
        "id": "view-in-github",
        "colab_type": "text"
      },
      "source": [
        "<a href=\"https://colab.research.google.com/github/kjinb1212/Falldown-detection-KD/blob/main/student_train.ipynb\" target=\"_parent\"><img src=\"https://colab.research.google.com/assets/colab-badge.svg\" alt=\"Open In Colab\"/></a>"
      ]
    },
    {
      "cell_type": "code",
      "metadata": {
        "id": "U3vs_6_qUOdo"
      },
      "source": [
        "import torch\n",
        "import torch.nn as nn\n",
        "import torch.nn.functional as F\n",
        "import torchvision\n",
        "import torchvision.transforms as transforms\n",
        "import numpy as np\n",
        "from torch.utils.data.sampler import SubsetRandomSampler\n",
        "from sklearn.model_selection import train_test_split\n",
        "\n",
        "from glob import glob\n",
        "import os\n",
        "import sys\n",
        "from PIL import Image\n",
        "import timm\n",
        "import pandas as pd\n",
        "from torchsummary import summary\n"
      ],
      "execution_count": null,
      "outputs": []
    },
    {
      "cell_type": "code",
      "metadata": {
        "id": "XVKqSZDlUOds"
      },
      "source": [
        "def train(model, train_loader, test_loader, criterion, optimizer, epochs, save_name):\n",
        "    scheduler = torch.optim.lr_scheduler.ReduceLROnPlateau(optimizer=optimizer, patience=4, verbose=True)\n",
        "    best_loss = None\n",
        "    best_acc = None\n",
        "    patience = 0 \n",
        "    \n",
        "    history = {'loss': [], 'acc': []}\n",
        "    \n",
        "    for epoch in range(epochs):\n",
        "        print(\"--------- epoch : {} ------------\".format(epoch+1))\n",
        "        model.train()\n",
        "        train_losses = []\n",
        "        for data, label in train_loader:\n",
        "            data = data.to(device)\n",
        "            label = label.to(device)\n",
        "            \n",
        "            optimizer.zero_grad()\n",
        "            output = model(data)\n",
        "                        \n",
        "            loss = criterion(output, label)\n",
        "            train_losses.append(loss.item())\n",
        "            loss.backward()\n",
        "            optimizer.step()\n",
        "            torch.cuda.empty_cache()\n",
        "        train_loss = np.average(train_losses)\n",
        "        print(\"train loss: {}\".format(train_loss))\n",
        "        \n",
        "        model.eval()\n",
        "        test_losses = []\n",
        "        correct = 0\n",
        "        total = 0\n",
        "        with torch.no_grad():\n",
        "            for data, label in test_loader:\n",
        "                data = data.to(device)\n",
        "                label = label.to(device)\n",
        "                \n",
        "                output = model(data)\n",
        "                loss = criterion(output, label)\n",
        "                test_losses.append(loss.item())\n",
        "                _, predict = torch.max(output.data, 1)\n",
        "                correct += (predict == label).sum().item()\n",
        "                total += label.size(0)\n",
        "            test_loss = np.average(test_losses)\n",
        "            test_acc = 100 * correct / total\n",
        "            print(\"test loss: {}, \\ttest acc: {}%\".format(test_loss, test_acc))\n",
        "            \n",
        "            history['loss'].append(test_loss)\n",
        "            history['acc'].append(test_acc)\n",
        "            \n",
        "            if (best_loss is None) or (best_loss > test_loss):\n",
        "                best_loss = test_loss\n",
        "                best_acc = test_acc\n",
        "                torch.save(model.state_dict(), 'new_model_weights/' + save_name + '.pth')\n",
        "                print('Best loss: {}'.format(best_loss))\n",
        "                patience = 0\n",
        "            else:\n",
        "                patience += 1\n",
        "\n",
        "            if patience > 7:\n",
        "                print(\"early stop at {} epoch\".format(epoch + 1))\n",
        "                break\n",
        "\n",
        "            scheduler.step(metrics=test_loss)\n",
        "    \n",
        "    print(\"best loss: {},\\t best acc: {}%\".format(best_loss, best_acc))\n",
        "    return best_loss, best_acc, history "
      ],
      "execution_count": null,
      "outputs": []
    },
    {
      "cell_type": "code",
      "metadata": {
        "id": "faIR4CHwUOdt"
      },
      "source": [
        "class CustomDataset(torch.utils.data.Dataset):\n",
        "    def __init__(self, root_dir, input_size, train = True, padding = True, normalize = False,\n",
        "                 bright_ness = 0.2, hue = 0.15, contrast = 0.15, random_Hflip = 0.3, rotate_deg = 20):\n",
        "        orig_normal_path = glob(os.path.join(root_dir, 'normal') + '/*.jpg')\n",
        "        orig_fall_path = glob(os.path.join(root_dir, 'falldown') + '/*.jpg')\n",
        "        orig_back_path = glob(os.path.join(root_dir, 'background') + '/*.jpg')\n",
        "        \n",
        "        normal_paths = []\n",
        "        fall_paths = []\n",
        "        back_paths = []\n",
        "        \n",
        "        for path in orig_normal_path:\n",
        "            img = Image.open(path)\n",
        "            if min(img.size[0], img.size[1]) < 32:\n",
        "                pass\n",
        "            else:\n",
        "                normal_paths.append(path)\n",
        "                \n",
        "        for path in orig_fall_path:\n",
        "            img = Image.open(path)\n",
        "            if min(img.size[0], img.size[1]) < 32:\n",
        "                pass\n",
        "            else:\n",
        "                fall_paths.append(path)\n",
        "                \n",
        "        for path in orig_back_path:\n",
        "            img = Image.open(path)\n",
        "            if min(img.size[0], img.size[1]) < 32:\n",
        "                pass\n",
        "            else:\n",
        "                back_paths.append(path)\n",
        "                \n",
        "        self.total_paths = normal_paths + fall_paths + back_paths\n",
        "        self.labels = [0] * len(normal_paths) + [1] * len(fall_paths) + [2] * len(back_paths)\n",
        "        \n",
        "        transform = []\n",
        "        if train:\n",
        "            #transform.append(torchvision.transforms.ColorJitter(brightness=bright_ness, hue=hue, contrast=contrast))\n",
        "            transform.append(torchvision.transforms.RandomHorizontalFlip(p=random_Hflip))\n",
        "            #transform.append(torchvision.transforms.RandomCrop(224))\n",
        "            transform.append(torchvision.transforms.RandomRotation(degrees=rotate_deg))\n",
        "        transform.append(torchvision.transforms.ToTensor())\n",
        "        if normalize:\n",
        "            transform.append(torchvision.transforms.Normalize(mean=[0.485, 0.456, 0.406], std=[0.229, 0.224, 0.225]))\n",
        "        if padding:\n",
        "            transform.append(lambda x: torchvision.transforms.Pad(((128 - x.shape[2]) // 2, (128 - x.shape[1]) // 2), fill=0,\n",
        "                                                     padding_mode=\"constant\")(x))\n",
        "        transform.append(torchvision.transforms.Resize((input_size, input_size)))\n",
        "        self.transform = torchvision.transforms.Compose(transform)\n",
        "        \n",
        "        \n",
        "    def __len__(self):\n",
        "        return len(self.total_paths)\n",
        "\n",
        "    def __getitem__(self, index):\n",
        "        img = Image.open(self.total_paths[index])\n",
        "        img = self.transform(img)\n",
        "        return img, self.labels[index]"
      ],
      "execution_count": null,
      "outputs": []
    },
    {
      "cell_type": "code",
      "metadata": {
        "id": "neq_n-DpUOdu"
      },
      "source": [
        "class CNN_layers(nn.Module):\n",
        "    def __init__(self):\n",
        "        super(CNN_layers, self).__init__()      \n",
        "        self.conv1 = nn.Conv2d(3, 16, 3)\n",
        "        self.pool = nn.MaxPool2d(2, 2)\n",
        "        self.conv2 = nn.Conv2d(16, 32, 3)\n",
        "        self.conv3 = nn.Conv2d(32, 64, 3)\n",
        "        self.conv4 = nn.Conv2d(64, 32, 3)\n",
        "\n",
        "        self.fc1 = nn.Linear(32 * 8 * 8, 16)\n",
        "        self.fc2 = nn.Linear(16, 8)\n",
        "        self.fc3 = nn.Linear(8, 3)\n",
        "\n",
        "        self.bn1 = nn.BatchNorm2d(16)\n",
        "        self.bn2 = nn.BatchNorm2d(32)\n",
        "        self.bn3 = nn.BatchNorm2d(64)\n",
        "        self.bn4 = nn.BatchNorm2d(32)\n",
        "\n",
        "        self.bn6 = nn.BatchNorm1d(16)\n",
        "        self.bn7 = nn.BatchNorm1d(8)\n",
        "        self.padding = nn.ZeroPad2d(1)\n",
        "\n",
        "    def forward(self, x):\n",
        "        x = self.pool(F.relu(self.bn1(self.conv1(self.padding(x))))) # 128 -> 64\n",
        "        x = self.pool(F.relu(self.bn2(self.conv2(self.padding(x))))) # 64 -> 32\n",
        "        x = self.pool(F.relu(self.bn3(self.conv3(self.padding(x))))) # 32 -> 16\n",
        "        x = self.pool(F.relu(self.bn4(self.conv4(self.padding(x))))) # 16 -> 8\n",
        "\n",
        "        x = x.view(-1, 32 * 8 * 8)\n",
        "        x = F.relu(self.bn6(self.fc1(x)))\n",
        "        x = F.relu(self.bn7(self.fc2(x)))\n",
        "        x = self.fc3(x)\n",
        "        return x"
      ],
      "execution_count": null,
      "outputs": []
    },
    {
      "cell_type": "code",
      "metadata": {
        "id": "kl_HvBOUUOdu"
      },
      "source": [
        "INPUT_SIZE = 128\n",
        "PADDING = False\n",
        "NORMALIZE = False\n",
        "BATCHSIZE = 128\n",
        "NUMEPOCH = 100\n",
        "\n",
        "train_data = CustomDataset(\n",
        "    root_dir='train',\n",
        "    input_size=INPUT_SIZE, train=True, padding=PADDING, normalize=NORMALIZE,\n",
        "    bright_ness=0, hue=01.5, contrast=0.15, random_Hflip=0, rotate_deg=0)\n",
        "\n",
        "test_data = CustomDataset(\n",
        "    root_dir='validation',\n",
        "    input_size=INPUT_SIZE, train=False, padding=PADDING, normalize=NORMALIZE,\n",
        "    bright_ness=0, hue=01.5, contrast=0.15, random_Hflip=0, rotate_deg=0)"
      ],
      "execution_count": null,
      "outputs": []
    },
    {
      "cell_type": "code",
      "metadata": {
        "id": "zDWcDEr8UOdv"
      },
      "source": [
        "train_loader = torch.utils.data.DataLoader(train_data, batch_size=BATCHSIZE, shuffle=True, num_workers=32, drop_last=True)\n",
        "test_loader = torch.utils.data.DataLoader(test_data, batch_size=BATCHSIZE, shuffle=False, num_workers=32, drop_last=True)"
      ],
      "execution_count": null,
      "outputs": []
    },
    {
      "cell_type": "code",
      "metadata": {
        "id": "oIsEht8fUOdv"
      },
      "source": [
        "device = torch.device(\"cuda:0\" if torch.cuda.is_available() else \"cpu\")\n",
        "torch.cuda.empty_cache()\n",
        "\n",
        "student_model = CNN_layers().to(device)\n"
      ],
      "execution_count": null,
      "outputs": []
    },
    {
      "cell_type": "code",
      "metadata": {
        "id": "8t8eajWEUOdv",
        "outputId": "2fe15805-7061-4309-973f-fd405b431b18"
      },
      "source": [
        "criterion = nn.CrossEntropyLoss()\n",
        "optimizer = torch.optim.Adam(student_model.parameters(), weight_decay=1e-4, lr=0.001)\n",
        "save_name = 'student_model'\n",
        "loss, acc, history = train(model=student_model, train_loader=train_loader, test_loader=test_loader,\n",
        "      criterion = criterion, optimizer=optimizer, epochs=NUMEPOCH, save_name=save_name) "
      ],
      "execution_count": null,
      "outputs": [
        {
          "output_type": "stream",
          "text": [
            "--------- epoch : 1 ------------\n",
            "train loss: 0.5159689319198546\n",
            "test loss: 0.6928760595619678, \ttest acc: 80.56640625%\n",
            "Best loss: 0.6928760595619678\n",
            "--------- epoch : 2 ------------\n",
            "train loss: 0.24476532881026683\n",
            "test loss: 0.6667530070990324, \ttest acc: 73.388671875%\n",
            "Best loss: 0.6667530070990324\n",
            "--------- epoch : 3 ------------\n",
            "train loss: 0.16170203495446756\n",
            "test loss: 0.395482812076807, \ttest acc: 84.1796875%\n",
            "Best loss: 0.395482812076807\n",
            "--------- epoch : 4 ------------\n",
            "train loss: 0.1315191509809507\n",
            "test loss: 0.5490122847259045, \ttest acc: 79.6875%\n",
            "--------- epoch : 5 ------------\n",
            "train loss: 0.10950457110353139\n",
            "test loss: 0.47567288810387254, \ttest acc: 83.544921875%\n",
            "--------- epoch : 6 ------------\n",
            "train loss: 0.09530036770941122\n",
            "test loss: 0.4827407277189195, \ttest acc: 83.740234375%\n",
            "--------- epoch : 7 ------------\n",
            "train loss: 0.08465647565848801\n",
            "test loss: 0.4433522541075945, \ttest acc: 83.7890625%\n",
            "--------- epoch : 8 ------------\n",
            "train loss: 0.07611712290014586\n",
            "test loss: 0.37254899833351374, \ttest acc: 86.9140625%\n",
            "Best loss: 0.37254899833351374\n",
            "--------- epoch : 9 ------------\n",
            "train loss: 0.06770365080877166\n",
            "test loss: 0.5476400791667402, \ttest acc: 84.08203125%\n",
            "--------- epoch : 10 ------------\n",
            "train loss: 0.0611389492051271\n",
            "test loss: 0.5200084163807333, \ttest acc: 84.716796875%\n",
            "--------- epoch : 11 ------------\n",
            "train loss: 0.058957948896062116\n",
            "test loss: 0.4256372060626745, \ttest acc: 85.400390625%\n",
            "--------- epoch : 12 ------------\n",
            "train loss: 0.04705751429656115\n",
            "test loss: 0.6638398114591837, \ttest acc: 80.2734375%\n",
            "--------- epoch : 13 ------------\n",
            "train loss: 0.04208573136660878\n",
            "test loss: 0.6972079798579216, \ttest acc: 81.54296875%\n",
            "Epoch    13: reducing learning rate of group 0 to 1.0000e-04.\n",
            "--------- epoch : 14 ------------\n",
            "train loss: 0.02677165432934366\n",
            "test loss: 0.4849128723144531, \ttest acc: 86.81640625%\n",
            "--------- epoch : 15 ------------\n",
            "train loss: 0.01901191106552015\n",
            "test loss: 0.4949535159394145, \ttest acc: 86.81640625%\n",
            "--------- epoch : 16 ------------\n",
            "train loss: 0.016210652288029214\n",
            "test loss: 0.4938274258747697, \ttest acc: 86.81640625%\n",
            "early stop at 16 epoch\n",
            "best loss: 0.37254899833351374,\t best acc: 86.9140625%\n"
          ],
          "name": "stdout"
        }
      ]
    },
    {
      "cell_type": "code",
      "metadata": {
        "id": "nSLfh_pQUOdw",
        "outputId": "5f963a43-3f5c-48c1-cfb1-b60d2066925d"
      },
      "source": [
        "print(\"loss: {}\\nacc: {}%\".format(loss, acc))"
      ],
      "execution_count": null,
      "outputs": [
        {
          "output_type": "stream",
          "text": [
            "loss: 0.37254899833351374\n",
            "acc: 86.9140625%\n"
          ],
          "name": "stdout"
        }
      ]
    },
    {
      "cell_type": "code",
      "metadata": {
        "id": "uTo0VlugUOdw"
      },
      "source": [
        "df = pd.DataFrame(history)\n",
        "df.to_csv(\"new_history/\"+ save_name+ \"_history.csv\", mode='w')"
      ],
      "execution_count": null,
      "outputs": []
    },
    {
      "cell_type": "code",
      "metadata": {
        "id": "lZiG23VzUOdw",
        "outputId": "cee14d5f-9351-40fd-dcf7-30b2b202ba89"
      },
      "source": [
        "summary(student_model, (3, 128, 128))\n"
      ],
      "execution_count": null,
      "outputs": [
        {
          "output_type": "stream",
          "text": [
            "----------------------------------------------------------------\n",
            "        Layer (type)               Output Shape         Param #\n",
            "================================================================\n",
            "         ZeroPad2d-1          [-1, 3, 130, 130]               0\n",
            "            Conv2d-2         [-1, 16, 128, 128]             448\n",
            "       BatchNorm2d-3         [-1, 16, 128, 128]              32\n",
            "         MaxPool2d-4           [-1, 16, 64, 64]               0\n",
            "         ZeroPad2d-5           [-1, 16, 66, 66]               0\n",
            "            Conv2d-6           [-1, 32, 64, 64]           4,640\n",
            "       BatchNorm2d-7           [-1, 32, 64, 64]              64\n",
            "         MaxPool2d-8           [-1, 32, 32, 32]               0\n",
            "         ZeroPad2d-9           [-1, 32, 34, 34]               0\n",
            "           Conv2d-10           [-1, 64, 32, 32]          18,496\n",
            "      BatchNorm2d-11           [-1, 64, 32, 32]             128\n",
            "        MaxPool2d-12           [-1, 64, 16, 16]               0\n",
            "        ZeroPad2d-13           [-1, 64, 18, 18]               0\n",
            "           Conv2d-14           [-1, 32, 16, 16]          18,464\n",
            "      BatchNorm2d-15           [-1, 32, 16, 16]              64\n",
            "        MaxPool2d-16             [-1, 32, 8, 8]               0\n",
            "           Linear-17                   [-1, 16]          32,784\n",
            "      BatchNorm1d-18                   [-1, 16]              32\n",
            "           Linear-19                    [-1, 8]             136\n",
            "      BatchNorm1d-20                    [-1, 8]              16\n",
            "           Linear-21                    [-1, 3]              27\n",
            "================================================================\n",
            "Total params: 75,331\n",
            "Trainable params: 75,331\n",
            "Non-trainable params: 0\n",
            "----------------------------------------------------------------\n",
            "Input size (MB): 0.19\n",
            "Forward/backward pass size (MB): 9.37\n",
            "Params size (MB): 0.29\n",
            "Estimated Total Size (MB): 9.85\n",
            "----------------------------------------------------------------\n"
          ],
          "name": "stdout"
        }
      ]
    },
    {
      "cell_type": "code",
      "metadata": {
        "id": "Kvlefoa8UOdx"
      },
      "source": [
        ""
      ],
      "execution_count": null,
      "outputs": []
    }
  ]
}