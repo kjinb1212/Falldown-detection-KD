{
  "nbformat": 4,
  "nbformat_minor": 0,
  "metadata": {
    "kernelspec": {
      "display_name": "AGC",
      "language": "python",
      "name": "agc"
    },
    "language_info": {
      "codemirror_mode": {
        "name": "ipython",
        "version": 3
      },
      "file_extension": ".py",
      "mimetype": "text/x-python",
      "name": "python",
      "nbconvert_exporter": "python",
      "pygments_lexer": "ipython3",
      "version": "3.6.12"
    },
    "colab": {
      "name": "student_train.ipynb",
      "provenance": [],
      "collapsed_sections": [],
      "include_colab_link": true
    }
  },
  "cells": [
    {
      "cell_type": "markdown",
      "metadata": {
        "id": "view-in-github",
        "colab_type": "text"
      },
      "source": [
        "<a href=\"https://colab.research.google.com/github/kjinb1212/Falldown-detection-KD/blob/main/student_train.ipynb\" target=\"_parent\"><img src=\"https://colab.research.google.com/assets/colab-badge.svg\" alt=\"Open In Colab\"/></a>"
      ]
    },
    {
      "cell_type": "code",
      "metadata": {
        "id": "H__RnPcIX-V_"
      },
      "source": [
        "import torch\n",
        "import torch.nn as nn\n",
        "import torch.nn.functional as F\n",
        "import torchvision\n",
        "import torchvision.transforms as transforms\n",
        "import numpy as np\n",
        "from torch.utils.data.sampler import SubsetRandomSampler\n",
        "from sklearn.model_selection import train_test_split\n",
        "\n",
        "from glob import glob\n",
        "import os\n",
        "import sys\n",
        "from PIL import Image\n",
        "import pandas as pd"
      ],
      "execution_count": null,
      "outputs": []
    },
    {
      "cell_type": "code",
      "metadata": {
        "id": "Nual9uxcX-WF"
      },
      "source": [
        "def train(model, train_loader, test_loader, criterion, optimizer, epochs, save_name):\n",
        "    scheduler = torch.optim.lr_scheduler.ReduceLROnPlateau(optimizer=optimizer, patience=4, verbose=True)\n",
        "    best_loss = None\n",
        "    best_acc = None\n",
        "    patience = 0 \n",
        "    \n",
        "    history = {'loss': [], 'acc': []}\n",
        "    \n",
        "    for epoch in range(epochs):\n",
        "        print(\"--------- epoch : {} ------------\".format(epoch+1))\n",
        "        model.train()\n",
        "        train_losses = []\n",
        "        for data, label in train_loader:\n",
        "            data = data.to(device)\n",
        "            label = label.to(device)\n",
        "            \n",
        "            optimizer.zero_grad()\n",
        "            output = model(data)\n",
        "                        \n",
        "            loss = criterion(output, label)\n",
        "            train_losses.append(loss.item())\n",
        "            loss.backward()\n",
        "            optimizer.step()\n",
        "            torch.cuda.empty_cache()\n",
        "        train_loss = np.average(train_losses)\n",
        "        print(\"train loss: {}\".format(train_loss))\n",
        "        \n",
        "        model.eval()\n",
        "        test_losses = []\n",
        "        correct = 0\n",
        "        total = 0\n",
        "        with torch.no_grad():\n",
        "            for data, label in test_loader:\n",
        "                data = data.to(device)\n",
        "                label = label.to(device)\n",
        "                \n",
        "                output = model(data)\n",
        "                loss = criterion(output, label)\n",
        "                test_losses.append(loss.item())\n",
        "                _, predict = torch.max(output.data, 1)\n",
        "                correct += (predict == label).sum().item()\n",
        "                total += label.size(0)\n",
        "            test_loss = np.average(test_losses)\n",
        "            test_acc = 100 * correct / total\n",
        "            print(\"test loss: {}, \\ttest acc: {}%\".format(test_loss, test_acc))\n",
        "            \n",
        "            history['loss'].append(test_loss)\n",
        "            history['acc'].append(test_acc)\n",
        "            \n",
        "            if (best_loss is None) or (best_loss > test_loss):\n",
        "                best_loss = test_loss\n",
        "                best_acc = test_acc\n",
        "                torch.save(model.state_dict(), '3_model_weights/' + save_name + '.pth')\n",
        "                print('Best loss: {}'.format(best_loss))\n",
        "                patience = 0\n",
        "            else:\n",
        "                patience += 1\n",
        "\n",
        "            if patience > 7:\n",
        "                print(\"early stop at {} epoch\".format(epoch + 1))\n",
        "                break\n",
        "\n",
        "            scheduler.step(metrics=test_loss)\n",
        "    \n",
        "    print(\"best loss: {},\\t best acc: {}%\".format(best_loss, best_acc))\n",
        "    return best_loss, best_acc, history "
      ],
      "execution_count": null,
      "outputs": []
    },
    {
      "cell_type": "code",
      "metadata": {
        "id": "Ex0N9QFPX-WF"
      },
      "source": [
        "class CustomDataset(torch.utils.data.Dataset):\n",
        "    def __init__(self, root_dir, input_size, train = True, padding = True, normalize = False,\n",
        "                 bright_ness = 0.2, hue = 0.15, contrast = 0.15, random_Hflip = 0.3, rotate_deg = 20):\n",
        "        orig_normal_path = glob(os.path.join(root_dir, 'normal') + '/*.jpg')\n",
        "        orig_fall_path = glob(os.path.join(root_dir, 'falldown') + '/*.jpg')\n",
        "        orig_back_path = glob(os.path.join(root_dir, 'background') + '/*.jpg')\n",
        "        \n",
        "        normal_paths = []\n",
        "        fall_paths = []\n",
        "        back_paths = []\n",
        "        \n",
        "        for path in orig_normal_path:\n",
        "            img = Image.open(path)\n",
        "            if min(img.size[0], img.size[1]) < 32:\n",
        "                pass\n",
        "            else:\n",
        "                normal_paths.append(path)\n",
        "                \n",
        "        for path in orig_fall_path:\n",
        "            img = Image.open(path)\n",
        "            if min(img.size[0], img.size[1]) < 32:\n",
        "                pass\n",
        "            else:\n",
        "                fall_paths.append(path)\n",
        "        \n",
        "        for path in orig_back_path:\n",
        "            img = Image.open(path)\n",
        "            if min(img.size[0], img.size[1]) < 32:\n",
        "                pass\n",
        "            else:\n",
        "                back_paths.append(path)\n",
        "                        \n",
        "        self.total_paths = normal_paths + fall_paths + back_paths\n",
        "        self.labels = [0] * len(normal_paths) + [1] * len(fall_paths) + [2] * len(back_paths)\n",
        "        \n",
        "        transform = []\n",
        "        if train:\n",
        "            #transform.append(torchvision.transforms.ColorJitter(brightness=bright_ness, hue=hue, contrast=contrast))\n",
        "            transform.append(torchvision.transforms.RandomHorizontalFlip(p=random_Hflip))\n",
        "            #transform.append(torchvision.transforms.RandomCrop(224))\n",
        "            transform.append(torchvision.transforms.RandomRotation(degrees=rotate_deg))\n",
        "        transform.append(torchvision.transforms.ToTensor())\n",
        "        if normalize:\n",
        "            transform.append(torchvision.transforms.Normalize(mean=[0.485, 0.456, 0.406], std=[0.229, 0.224, 0.225]))\n",
        "        if padding:\n",
        "            transform.append(lambda x: torchvision.transforms.Pad(((128 - x.shape[2]) // 2, (128 - x.shape[1]) // 2), fill=0,\n",
        "                                                     padding_mode=\"constant\")(x))\n",
        "        transform.append(torchvision.transforms.Resize((input_size, input_size)))\n",
        "        self.transform = torchvision.transforms.Compose(transform)\n",
        "        \n",
        "        \n",
        "    def __len__(self):\n",
        "        return len(self.total_paths)\n",
        "\n",
        "    def __getitem__(self, index):\n",
        "        img = Image.open(self.total_paths[index])\n",
        "        img = self.transform(img)\n",
        "        return img, self.labels[index]"
      ],
      "execution_count": null,
      "outputs": []
    },
    {
      "cell_type": "code",
      "metadata": {
        "id": "5puz1GXXX-WG"
      },
      "source": [
        "class CNN_layers(nn.Module):\n",
        "    def __init__(self):\n",
        "        super(CNN_layers, self).__init__()      \n",
        "        self.conv1 = nn.Conv2d(3, 16, 3)\n",
        "        self.pool = nn.MaxPool2d(2, 2)\n",
        "        self.conv2 = nn.Conv2d(16, 32, 3)\n",
        "        self.conv3 = nn.Conv2d(32, 64, 3)\n",
        "        self.conv4 = nn.Conv2d(64, 32, 3)\n",
        "        #self.conv5 = nn.Conv2d(32, 16, 3)\n",
        "\n",
        "        self.fc1 = nn.Linear(32 * 8 * 8, 16)\n",
        "        self.fc2 = nn.Linear(16, 8)\n",
        "        self.fc3 = nn.Linear(8, 3)\n",
        "\n",
        "        self.bn1 = nn.BatchNorm2d(16)\n",
        "        self.bn2 = nn.BatchNorm2d(32)\n",
        "        self.bn3 = nn.BatchNorm2d(64)\n",
        "        self.bn4 = nn.BatchNorm2d(32)\n",
        "        #self.bn5 = nn.BatchNorm2d(16)\n",
        "\n",
        "        self.bn6 = nn.BatchNorm1d(16)\n",
        "        self.bn7 = nn.BatchNorm1d(8)\n",
        "        self.padding = nn.ZeroPad2d(1)\n",
        "\n",
        "    def forward(self, x):\n",
        "        x = self.pool(F.relu(self.bn1(self.conv1(self.padding(x))))) # 128 -> 64\n",
        "        x = self.pool(F.relu(self.bn2(self.conv2(self.padding(x))))) # 64 -> 32\n",
        "        x = self.pool(F.relu(self.bn3(self.conv3(self.padding(x))))) # 32 -> 16\n",
        "        x = self.pool(F.relu(self.bn4(self.conv4(self.padding(x))))) # 16 -> 8\n",
        "        #x = self.pool(F.relu(self.bn5(self.conv5(self.padding(x))))) # 8 -> 4\n",
        "\n",
        "        x = x.view(-1, 32 * 8 * 8)\n",
        "        x = F.relu(self.bn6(self.fc1(x)))\n",
        "        x = F.relu(self.bn7(self.fc2(x)))\n",
        "        x = self.fc3(x)\n",
        "        return x"
      ],
      "execution_count": null,
      "outputs": []
    },
    {
      "cell_type": "code",
      "metadata": {
        "id": "vKY86j5vX-WG"
      },
      "source": [
        "INPUT_SIZE = 128\n",
        "PADDING = False\n",
        "NORMALIZE = False\n",
        "BATCHSIZE = 128\n",
        "NUMEPOCH = 100\n",
        "\n",
        "train_data = CustomDataset(\n",
        "    root_dir='train',\n",
        "    input_size=INPUT_SIZE, train=True, padding=PADDING, normalize=NORMALIZE,\n",
        "    bright_ness=0, hue=01.5, contrast=0.15, random_Hflip=0, rotate_deg=0)\n",
        "\n",
        "test_data = CustomDataset(\n",
        "    root_dir='validation',\n",
        "    input_size=INPUT_SIZE, train=False, padding=PADDING, normalize=NORMALIZE,\n",
        "    bright_ness=0, hue=01.5, contrast=0.15, random_Hflip=0, rotate_deg=0)"
      ],
      "execution_count": null,
      "outputs": []
    },
    {
      "cell_type": "code",
      "metadata": {
        "id": "0SYIlOPgX-WH"
      },
      "source": [
        "train_loader = torch.utils.data.DataLoader(train_data, batch_size=BATCHSIZE, shuffle=True, num_workers=32, drop_last=True)\n",
        "test_loader = torch.utils.data.DataLoader(test_data, batch_size=BATCHSIZE, shuffle=False, num_workers=32, drop_last=True)"
      ],
      "execution_count": null,
      "outputs": []
    },
    {
      "cell_type": "code",
      "metadata": {
        "id": "_xE-PdrCX-WH"
      },
      "source": [
        "device = torch.device(\"cuda:3\" if torch.cuda.is_available() else \"cpu\")\n",
        "student_model = CNN_layers().to(device)\n"
      ],
      "execution_count": null,
      "outputs": []
    },
    {
      "cell_type": "code",
      "metadata": {
        "id": "owt5mhNKX-WH",
        "outputId": "6dd01003-c09e-4377-cf38-076d8c8fb877"
      },
      "source": [
        "criterion = nn.CrossEntropyLoss()\n",
        "optimizer = torch.optim.Adam(student_model.parameters(), weight_decay=1e-4, lr=0.001)\n",
        "save_name = 'student_model'\n",
        "loss, acc, history = train(model=student_model, train_loader=train_loader, test_loader=test_loader,\n",
        "      criterion = criterion, optimizer=optimizer, epochs=NUMEPOCH, save_name=save_name) "
      ],
      "execution_count": null,
      "outputs": [
        {
          "output_type": "stream",
          "text": [
            "--------- epoch : 1 ------------\n",
            "train loss: 0.38461847586451836\n",
            "test loss: 0.25732003649075824, \ttest acc: 89.0625%\n",
            "Best loss: 0.25732003649075824\n",
            "--------- epoch : 2 ------------\n",
            "train loss: 0.21647600646851198\n",
            "test loss: 0.2187693528831005, \ttest acc: 92.70833333333333%\n",
            "Best loss: 0.2187693528831005\n",
            "--------- epoch : 3 ------------\n",
            "train loss: 0.17334961725293466\n",
            "test loss: 0.08508630096912384, \ttest acc: 96.61458333333333%\n",
            "Best loss: 0.08508630096912384\n",
            "--------- epoch : 4 ------------\n",
            "train loss: 0.14590217735407487\n",
            "test loss: 0.06107185781002045, \ttest acc: 97.65625%\n",
            "Best loss: 0.06107185781002045\n",
            "--------- epoch : 5 ------------\n",
            "train loss: 0.1285243919997845\n",
            "test loss: 0.14298561618973812, \ttest acc: 95.57291666666667%\n",
            "--------- epoch : 6 ------------\n",
            "train loss: 0.11037975791490302\n",
            "test loss: 0.16437064918378988, \ttest acc: 94.79166666666667%\n",
            "--------- epoch : 7 ------------\n",
            "train loss: 0.09228940913980861\n",
            "test loss: 0.21521655035515627, \ttest acc: 93.48958333333333%\n",
            "--------- epoch : 8 ------------\n",
            "train loss: 0.08011671547900956\n",
            "test loss: 0.21954675763845444, \ttest acc: 92.96875%\n",
            "--------- epoch : 9 ------------\n",
            "train loss: 0.06991750768051957\n",
            "test loss: 0.2216040287166834, \ttest acc: 93.22916666666667%\n",
            "Epoch     9: reducing learning rate of group 0 to 1.0000e-04.\n",
            "--------- epoch : 10 ------------\n",
            "train loss: 0.04096996119983916\n",
            "test loss: 0.2129016915957133, \ttest acc: 93.75%\n",
            "--------- epoch : 11 ------------\n",
            "train loss: 0.03171900791414785\n",
            "test loss: 0.21559647719065347, \ttest acc: 93.48958333333333%\n",
            "--------- epoch : 12 ------------\n",
            "train loss: 0.027329031418446663\n",
            "test loss: 0.20570195838809013, \ttest acc: 93.75%\n",
            "early stop at 12 epoch\n",
            "best loss: 0.06107185781002045,\t best acc: 97.65625%\n"
          ],
          "name": "stdout"
        }
      ]
    },
    {
      "cell_type": "code",
      "metadata": {
        "id": "n-7z72PGX-WI",
        "outputId": "569a7779-2da8-468e-e584-f467bb6b03a2"
      },
      "source": [
        "print(\"loss: {}\\nacc: {}%\".format(loss, acc))"
      ],
      "execution_count": null,
      "outputs": [
        {
          "output_type": "stream",
          "text": [
            "loss: 0.06107185781002045\n",
            "acc: 97.65625%\n"
          ],
          "name": "stdout"
        }
      ]
    },
    {
      "cell_type": "code",
      "metadata": {
        "id": "880eSScAX-WJ"
      },
      "source": [
        "df = pd.DataFrame(history)\n",
        "df.to_csv(\"3_history/\"+ save_name+ \"_history.csv\", mode='w')"
      ],
      "execution_count": null,
      "outputs": []
    },
    {
      "cell_type": "code",
      "metadata": {
        "id": "SBKN5I-cX-WJ"
      },
      "source": [
        ""
      ],
      "execution_count": null,
      "outputs": []
    }
  ]
}