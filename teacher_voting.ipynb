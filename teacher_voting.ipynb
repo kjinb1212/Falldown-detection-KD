{
  "nbformat": 4,
  "nbformat_minor": 0,
  "metadata": {
    "kernelspec": {
      "display_name": "AGC",
      "language": "python",
      "name": "agc"
    },
    "language_info": {
      "codemirror_mode": {
        "name": "ipython",
        "version": 3
      },
      "file_extension": ".py",
      "mimetype": "text/x-python",
      "name": "python",
      "nbconvert_exporter": "python",
      "pygments_lexer": "ipython3",
      "version": "3.6.12"
    },
    "colab": {
      "name": "teacher_voting.ipynb",
      "provenance": [],
      "collapsed_sections": [],
      "include_colab_link": true
    }
  },
  "cells": [
    {
      "cell_type": "markdown",
      "metadata": {
        "id": "view-in-github",
        "colab_type": "text"
      },
      "source": [
        "<a href=\"https://colab.research.google.com/github/kjinb1212/Falldown-detection-KD/blob/main/teacher_voting.ipynb\" target=\"_parent\"><img src=\"https://colab.research.google.com/assets/colab-badge.svg\" alt=\"Open In Colab\"/></a>"
      ]
    },
    {
      "cell_type": "code",
      "metadata": {
        "id": "Z-6gJ9j8XL70"
      },
      "source": [
        "import torch\n",
        "import torch.nn as nn\n",
        "import torch.nn.functional as F\n",
        "import torchvision\n",
        "import torchvision.transforms as transforms\n",
        "import numpy as np\n",
        "from torch.utils.data.sampler import SubsetRandomSampler\n",
        "from sklearn.model_selection import train_test_split\n",
        "\n",
        "from glob import glob\n",
        "import os\n",
        "import sys\n",
        "from PIL import Image\n",
        "\n",
        "from efficientnet_pytorch import EfficientNet\n",
        "import pandas as pd"
      ],
      "execution_count": null,
      "outputs": []
    },
    {
      "cell_type": "code",
      "metadata": {
        "id": "9XJEyqwlXL75"
      },
      "source": [
        "class CustomDataset(torch.utils.data.Dataset):\n",
        "    def __init__(self, root_dir, input_size, train = True, padding = True, normalize = False,\n",
        "                 bright_ness = 0.2, hue = 0.15, contrast = 0.15, random_Hflip = 0.3, rotate_deg = 20):\n",
        "        orig_normal_path = glob(os.path.join(root_dir, 'normal') + '/*.jpg')\n",
        "        orig_fall_path = glob(os.path.join(root_dir, 'falldown') + '/*.jpg')\n",
        "        orig_back_path = glob(os.path.join(root_dir, 'background') + '/*.jpg')\n",
        "        \n",
        "        normal_paths = []\n",
        "        fall_paths = []\n",
        "        back_paths = []\n",
        "        \n",
        "        for path in orig_normal_path:\n",
        "            img = Image.open(path)\n",
        "            if min(img.size[0], img.size[1]) < 32:\n",
        "                pass\n",
        "            else:\n",
        "                normal_paths.append(path)\n",
        "                \n",
        "        for path in orig_fall_path:\n",
        "            img = Image.open(path)\n",
        "            if min(img.size[0], img.size[1]) < 32:\n",
        "                pass\n",
        "            else:\n",
        "                fall_paths.append(path)\n",
        "                \n",
        "        for path in orig_back_path:\n",
        "            img = Image.open(path)\n",
        "            if min(img.size[0], img.size[1]) < 32:\n",
        "                pass\n",
        "            else:\n",
        "                back_paths.append(path)\n",
        "                \n",
        "        self.total_paths = normal_paths + fall_paths + back_paths\n",
        "        self.labels = [0] * len(normal_paths) + [1] * len(fall_paths) + [2] * len(back_paths)\n",
        "        \n",
        "        transform = []\n",
        "        if train:\n",
        "            #transform.append(torchvision.transforms.ColorJitter(brightness=bright_ness, hue=hue, contrast=contrast))\n",
        "            transform.append(torchvision.transforms.RandomHorizontalFlip(p=random_Hflip))\n",
        "            #transform.append(torchvision.transforms.RandomCrop(224))\n",
        "            transform.append(torchvision.transforms.RandomRotation(degrees=rotate_deg))\n",
        "        transform.append(torchvision.transforms.ToTensor())\n",
        "        if normalize:\n",
        "            transform.append(torchvision.transforms.Normalize(mean=[0.485, 0.456, 0.406], std=[0.229, 0.224, 0.225]))\n",
        "        if padding:\n",
        "            transform.append(lambda x: torchvision.transforms.Pad(((128 - x.shape[2]) // 2, (128 - x.shape[1]) // 2), fill=0,\n",
        "                                                     padding_mode=\"constant\")(x))\n",
        "        transform.append(torchvision.transforms.Resize((input_size, input_size)))\n",
        "        self.transform = torchvision.transforms.Compose(transform)\n",
        "        \n",
        "        \n",
        "    def __len__(self):\n",
        "        return len(self.total_paths)\n",
        "\n",
        "    def __getitem__(self, index):\n",
        "        img = Image.open(self.total_paths[index])\n",
        "        img = self.transform(img)\n",
        "        return img, self.labels[index]"
      ],
      "execution_count": null,
      "outputs": []
    },
    {
      "cell_type": "code",
      "metadata": {
        "id": "Zq_iXaM4XL75"
      },
      "source": [
        "INPUT_SIZE = 128\n",
        "PADDING = False\n",
        "NORMALIZE = False\n",
        "BATCHSIZE = 128\n",
        "NUMEPOCH = 100\n",
        "\n",
        "\n",
        "test_data = CustomDataset(\n",
        "    root_dir='validation',\n",
        "    input_size=INPUT_SIZE, train=False, padding=PADDING, normalize=NORMALIZE,\n",
        "    bright_ness=0, hue=01.5, contrast=0.15, random_Hflip=0, rotate_deg=0)"
      ],
      "execution_count": null,
      "outputs": []
    },
    {
      "cell_type": "code",
      "metadata": {
        "id": "3_ScaU51XL76"
      },
      "source": [
        "test_loader = torch.utils.data.DataLoader(test_data, batch_size=BATCHSIZE, shuffle=False, num_workers=70, drop_last=True)"
      ],
      "execution_count": null,
      "outputs": []
    },
    {
      "cell_type": "markdown",
      "metadata": {
        "id": "hprLOqjsXL76"
      },
      "source": [
        "# voting classifier inference"
      ]
    },
    {
      "cell_type": "code",
      "metadata": {
        "id": "tuQ7xA3YXL76"
      },
      "source": [
        "def get_teacher_output(model, loader):\n",
        "    model.eval()\n",
        "    output = []\n",
        "    with torch.no_grad():\n",
        "        for data, _ in loader:\n",
        "            data = data.to(device)\n",
        "            output.append(model(data))\n",
        "    torch.cuda.empty_cache()\n",
        "    return output\n",
        "\n",
        "device = torch.device(\"cuda:0\" if torch.cuda.is_available() else \"cpu\")\n",
        "\n",
        "\n",
        "ensamble_list = [['b0', 'b1'], ['b0', 'b2'], ['b0', 'b3'], ['b0', 'b4'], ['b1', 'b2'], ['b1', 'b3'], ['b1', 'b4'], ['b2', 'b3'], ['b2', 'b4'], ['b3', 'b4'],\n",
        "                ['b0', 'b1', 'b2'], ['b0', 'b1', 'b3'], ['b0', 'b1', 'b4'], ['b0', 'b2', 'b3'], ['b0', 'b2', 'b4'], ['b0', 'b3', 'b4'], ['b1', 'b2', 'b3'],\n",
        "                ['b1', 'b2', 'b4'], ['b2', 'b3', 'b4'], ['b0', 'b1', 'b2', 'b3'], ['b0', 'b1', 'b2', 'b4'], ['b0', 'b1', 'b3', 'b4'], ['b0', 'b2', 'b3', 'b4'], \n",
        "                ['b1', 'b2', 'b3', 'b4'], ['b0', 'b1', 'b2', 'b3', 'b4']]\n",
        "\n",
        "logs = []\n",
        "for teachers in ensamble_list:\n",
        "    teacher_output = []\n",
        "    for teacher_name in teachers:\n",
        "        model_name = 'efficientnet-' + teacher_name\n",
        "        torch.cuda.empty_cache()\n",
        "\n",
        "        teacher_model = EfficientNet.from_pretrained(model_name, num_classes=3).to(device)\n",
        "        teacher_model.load_state_dict(torch.load('3_model_weights/'+ model_name + '.pth'))\n",
        "\n",
        "        teacher_output.append(get_teacher_output(teacher_model, test_loader))\n",
        "\n",
        "    criterion = nn.CrossEntropyLoss()\n",
        "    n_teacher = len(teachers)\n",
        "    test_losses = []\n",
        "    correct = 0\n",
        "    total = 0\n",
        "    for i, (data, label) in enumerate(test_loader):\n",
        "        label = label.to(device)\n",
        "        output = teacher_output[0][i]\n",
        "        for j in range(1, n_teacher):\n",
        "            output += teacher_output[j][i]\n",
        "        output /= n_teacher\n",
        "        loss = criterion(output, label)\n",
        "        test_losses.append(loss.item())\n",
        "        _, predict = torch.max(output.data, 1)\n",
        "        correct += (predict == label).sum().item()\n",
        "        total += label.size(0)\n",
        "    test_loss = np.average(test_losses)\n",
        "    test_acc = 100 * correct / total\n",
        "\n",
        "    save_name = 'voting'\n",
        "    for teacher_name in teachers:\n",
        "        save_name += '-' + teacher_name\n",
        "    s = save_name + \"\\t loss: {}\\t acc: {}%\".format(test_loss, test_acc)\n",
        "    logs.append(s)"
      ],
      "execution_count": null,
      "outputs": []
    },
    {
      "cell_type": "code",
      "metadata": {
        "id": "Umyt3X5hXL78"
      },
      "source": [
        "for log in logs:\n",
        "    print(log)"
      ],
      "execution_count": null,
      "outputs": []
    },
    {
      "cell_type": "code",
      "metadata": {
        "id": "wSwxlsApXL78"
      },
      "source": [
        ""
      ],
      "execution_count": null,
      "outputs": []
    }
  ]
}